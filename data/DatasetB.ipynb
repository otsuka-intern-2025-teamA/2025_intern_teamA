{
 "cells": [
  {
   "cell_type": "markdown",
   "id": "fd551e82-6c07-4686-9e42-5649c94b46a1",
   "metadata": {
    "execution": {
     "iopub.execute_input": "2025-07-31T08:35:38.810769Z",
     "iopub.status.busy": "2025-07-31T08:35:38.810130Z",
     "iopub.status.idle": "2025-07-31T08:35:38.816995Z",
     "shell.execute_reply": "2025-07-31T08:35:38.815378Z",
     "shell.execute_reply.started": "2025-07-31T08:35:38.810709Z"
    }
   },
   "source": [
    "## 必要なライブラリのインポート\n"
   ]
  },
  {
   "cell_type": "code",
   "execution_count": 1,
   "id": "49cf7a82-7dd1-4520-928d-baf0840c47ef",
   "metadata": {
    "execution": {
     "iopub.execute_input": "2025-07-31T08:51:44.935168Z",
     "iopub.status.busy": "2025-07-31T08:51:44.934267Z",
     "iopub.status.idle": "2025-07-31T08:51:45.453819Z",
     "shell.execute_reply": "2025-07-31T08:51:45.452482Z",
     "shell.execute_reply.started": "2025-07-31T08:51:44.935107Z"
    }
   },
   "outputs": [],
   "source": [
    "import pandas as pd\n",
    "import glob\n",
    "import os"
   ]
  },
  {
   "cell_type": "markdown",
   "id": "f48c6733-4d1e-4066-872b-7d055d7162f5",
   "metadata": {
    "execution": {
     "iopub.execute_input": "2025-07-31T08:36:03.847840Z",
     "iopub.status.busy": "2025-07-31T08:36:03.847186Z",
     "iopub.status.idle": "2025-07-31T08:36:03.853920Z",
     "shell.execute_reply": "2025-07-31T08:36:03.852401Z",
     "shell.execute_reply.started": "2025-07-31T08:36:03.847780Z"
    }
   },
   "source": [
    "##  各ファイルを読み込んで辞書に格納"
   ]
  },
  {
   "cell_type": "code",
   "execution_count": 2,
   "id": "3ed5a75b-c699-489f-89bb-cbe201cf8049",
   "metadata": {
    "execution": {
     "iopub.execute_input": "2025-07-31T08:51:45.455260Z",
     "iopub.status.busy": "2025-07-31T08:51:45.455019Z",
     "iopub.status.idle": "2025-07-31T08:51:45.558877Z",
     "shell.execute_reply": "2025-07-31T08:51:45.557971Z",
     "shell.execute_reply.started": "2025-07-31T08:51:45.455240Z"
    }
   },
   "outputs": [],
   "source": [
    "# フォルダ内の .csv をすべて取得\n",
    "csv_paths = glob.glob(\"DatasetB/*.csv\")\n",
    "df_dict = {}\n",
    "for path in csv_paths:\n",
    "    name = os.path.splitext(os.path.basename(path))[0]  # 拡張子なしファイル名をキーに\n",
    "    df = pd.read_csv(path)\n",
    "    df[\"__source__\"] = name  # 後からどのファイル由来か分かるように列を追加（任意）\n",
    "    df_dict[name] = df"
   ]
  },
  {
   "cell_type": "markdown",
   "id": "d6e4ccc3-413b-472a-ac26-b8dde74b9cf1",
   "metadata": {
    "execution": {
     "iopub.execute_input": "2025-07-31T08:38:09.123826Z",
     "iopub.status.busy": "2025-07-31T08:38:09.123161Z",
     "iopub.status.idle": "2025-07-31T08:38:09.130659Z",
     "shell.execute_reply": "2025-07-31T08:38:09.129080Z",
     "shell.execute_reply.started": "2025-07-31T08:38:09.123766Z"
    }
   },
   "source": [
    "## df_dict にどのキー（ファイル名）のデータ確認"
   ]
  },
  {
   "cell_type": "code",
   "execution_count": 3,
   "id": "aaf65299-e00e-421e-9d17-339ef0a8b808",
   "metadata": {
    "execution": {
     "iopub.execute_input": "2025-07-31T08:51:45.559637Z",
     "iopub.status.busy": "2025-07-31T08:51:45.559455Z",
     "iopub.status.idle": "2025-07-31T08:51:45.568508Z",
     "shell.execute_reply": "2025-07-31T08:51:45.567717Z",
     "shell.execute_reply.started": "2025-07-31T08:51:45.559618Z"
    }
   },
   "outputs": [
    {
     "name": "stdout",
     "output_type": "stream",
     "text": [
      "全ファイル合計行数：61,348件\n",
      "\n",
      "―― os ――\n",
      "  行数：62件  列数：5列\n",
      "―― power-supply ――\n",
      "  行数：3,089件  列数：8列\n",
      "―― video-card ――\n",
      "  行数：6,078件  列数：9列\n",
      "―― case ――\n",
      "  行数：5,953件  列数：9列\n",
      "―― thermal-paste ――\n",
      "  行数：173件  列数：4列\n",
      "―― internal-hard-drive ――\n",
      "  行数：6,062件  列数：9列\n",
      "―― ups ――\n",
      "  行数：686件  列数：5列\n",
      "―― external-hard-drive ――\n",
      "  行数：646件  列数：8列\n",
      "―― memory ――\n",
      "  行数：12,599件  列数：9列\n",
      "―― cpu ――\n",
      "  行数：1,373件  列数：9列\n",
      "―― webcam ――\n",
      "  行数：69件  列数：8列\n",
      "―― wired-network-card ――\n",
      "  行数：156件  列数：5列\n",
      "―― keyboard ――\n",
      "  行数：3,670件  列数：9列\n",
      "―― mouse ――\n",
      "  行数：2,657件  列数：8列\n",
      "―― monitor ――\n",
      "  行数：4,781件  列数：9列\n",
      "―― cpu-cooler ――\n",
      "  行数：2,431件  列数：7列\n",
      "―― wireless-network-card ――\n",
      "  行数：372件  列数：6列\n",
      "―― headphones ――\n",
      "  行数：2,865件  列数：9列\n",
      "―― speakers ――\n",
      "  行数：281件  列数：7列\n",
      "―― laptop_dataset_cleaned_full ――\n",
      "  行数：102件  列数：32列\n",
      "―― motherboard ――\n",
      "  行数：4,485件  列数：8列\n",
      "―― sound-card ――\n",
      "  行数：77件  列数：9列\n",
      "―― optical-drive ――\n",
      "  行数：227件  列数：9列\n",
      "―― case-accessory ――\n",
      "  行数：8件  列数：5列\n",
      "―― fan-controller ――\n",
      "  行数：43件  列数：8列\n",
      "―― case-fan ――\n",
      "  行数：2,403件  列数：9列\n",
      "\n",
      "                         source   rows  cols\n",
      "0                            os     62     5\n",
      "1                  power-supply   3089     8\n",
      "2                    video-card   6078     9\n",
      "3                          case   5953     9\n",
      "4                 thermal-paste    173     4\n",
      "5           internal-hard-drive   6062     9\n",
      "6                           ups    686     5\n",
      "7           external-hard-drive    646     8\n",
      "8                        memory  12599     9\n",
      "9                           cpu   1373     9\n",
      "10                       webcam     69     8\n",
      "11           wired-network-card    156     5\n",
      "12                     keyboard   3670     9\n",
      "13                        mouse   2657     8\n",
      "14                      monitor   4781     9\n",
      "15                   cpu-cooler   2431     7\n",
      "16        wireless-network-card    372     6\n",
      "17                   headphones   2865     9\n",
      "18                     speakers    281     7\n",
      "19  laptop_dataset_cleaned_full    102    32\n",
      "20                  motherboard   4485     8\n",
      "21                   sound-card     77     9\n",
      "22                optical-drive    227     9\n",
      "23               case-accessory      8     5\n",
      "24               fan-controller     43     8\n",
      "25                     case-fan   2403     9\n"
     ]
    }
   ],
   "source": [
    "# 全ファイルの合計行数\n",
    "total_rows = sum(df.shape[0] for df in df_dict.values())\n",
    "print(f\"全ファイル合計行数：{total_rows:,}件\\n\")\n",
    "\n",
    "# 各 DataFrame の件数・列数をプリント\n",
    "for name, df in df_dict.items():\n",
    "    print(f\"―― {name} ――\")\n",
    "    print(f\"  行数：{df.shape[0]:,}件  列数：{df.shape[1]:,}列\")\n",
    "print()\n",
    "\n",
    "# またはまとめて DataFrame で確認\n",
    "import pandas as pd\n",
    "summary = pd.DataFrame([\n",
    "    {\"source\": name, \"rows\": df.shape[0], \"cols\": df.shape[1]}\n",
    "    for name, df in df_dict.items()\n",
    "])\n",
    "print(summary)\n"
   ]
  },
  {
   "cell_type": "code",
   "execution_count": null,
   "id": "a7275b1e-7ee3-4e09-bc69-4103c0ed306f",
   "metadata": {},
   "outputs": [],
   "source": []
  },
  {
   "cell_type": "code",
   "execution_count": null,
   "id": "a2372f95-98ea-4ad3-9727-adee3b613548",
   "metadata": {},
   "outputs": [],
   "source": []
  }
 ],
 "metadata": {
  "kernelspec": {
   "display_name": "Python 3 (ipykernel)",
   "language": "python",
   "name": "python3"
  },
  "language_info": {
   "codemirror_mode": {
    "name": "ipython",
    "version": 3
   },
   "file_extension": ".py",
   "mimetype": "text/x-python",
   "name": "python",
   "nbconvert_exporter": "python",
   "pygments_lexer": "ipython3",
   "version": "3.10.12"
  },
  "widgets": {
   "application/vnd.jupyter.widget-state+json": {
    "state": {},
    "version_major": 2,
    "version_minor": 0
   }
  }
 },
 "nbformat": 4,
 "nbformat_minor": 5
}
