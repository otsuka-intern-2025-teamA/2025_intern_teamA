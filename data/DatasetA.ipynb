{
 "cells": [
  {
   "cell_type": "markdown",
   "id": "fd551e82-6c07-4686-9e42-5649c94b46a1",
   "metadata": {
    "execution": {
     "iopub.execute_input": "2025-07-31T08:35:38.810769Z",
     "iopub.status.busy": "2025-07-31T08:35:38.810130Z",
     "iopub.status.idle": "2025-07-31T08:35:38.816995Z",
     "shell.execute_reply": "2025-07-31T08:35:38.815378Z",
     "shell.execute_reply.started": "2025-07-31T08:35:38.810709Z"
    }
   },
   "source": [
    "## 必要なライブラリのインポート\n"
   ]
  },
  {
   "cell_type": "code",
   "execution_count": 2,
   "id": "49cf7a82-7dd1-4520-928d-baf0840c47ef",
   "metadata": {
    "execution": {
     "iopub.execute_input": "2025-07-31T08:47:06.160171Z",
     "iopub.status.busy": "2025-07-31T08:47:06.159185Z",
     "iopub.status.idle": "2025-07-31T08:47:06.167852Z",
     "shell.execute_reply": "2025-07-31T08:47:06.166148Z",
     "shell.execute_reply.started": "2025-07-31T08:47:06.160100Z"
    }
   },
   "outputs": [],
   "source": [
    "import pandas as pd\n",
    "import glob\n",
    "import os\n",
    "\n",
    "# フォルダ内の .csv をすべて取得\n",
    "csv_paths = glob.glob(\"DatasetA/*.csv\")"
   ]
  },
  {
   "cell_type": "markdown",
   "id": "f48c6733-4d1e-4066-872b-7d055d7162f5",
   "metadata": {
    "execution": {
     "iopub.execute_input": "2025-07-31T08:36:03.847840Z",
     "iopub.status.busy": "2025-07-31T08:36:03.847186Z",
     "iopub.status.idle": "2025-07-31T08:36:03.853920Z",
     "shell.execute_reply": "2025-07-31T08:36:03.852401Z",
     "shell.execute_reply.started": "2025-07-31T08:36:03.847780Z"
    }
   },
   "source": [
    "## CSV ファイルのパスを取得"
   ]
  },
  {
   "cell_type": "code",
   "execution_count": 3,
   "id": "3ed5a75b-c699-489f-89bb-cbe201cf8049",
   "metadata": {
    "execution": {
     "iopub.execute_input": "2025-07-31T08:47:07.086240Z",
     "iopub.status.busy": "2025-07-31T08:47:07.085632Z",
     "iopub.status.idle": "2025-07-31T08:47:07.168249Z",
     "shell.execute_reply": "2025-07-31T08:47:07.167303Z",
     "shell.execute_reply.started": "2025-07-31T08:47:07.086179Z"
    }
   },
   "outputs": [],
   "source": [
    "df_dict = {}\n",
    "for path in csv_paths:\n",
    "    name = os.path.splitext(os.path.basename(path))[0]  # 拡張子なしファイル名をキーに\n",
    "    df = pd.read_csv(path)\n",
    "    df[\"__source__\"] = name  # 後からどのファイル由来か分かるように列を追加（任意）\n",
    "    df_dict[name] = df\n"
   ]
  },
  {
   "cell_type": "markdown",
   "id": "d6e4ccc3-413b-472a-ac26-b8dde74b9cf1",
   "metadata": {
    "execution": {
     "iopub.execute_input": "2025-07-31T08:38:09.123826Z",
     "iopub.status.busy": "2025-07-31T08:38:09.123161Z",
     "iopub.status.idle": "2025-07-31T08:38:09.130659Z",
     "shell.execute_reply": "2025-07-31T08:38:09.129080Z",
     "shell.execute_reply.started": "2025-07-31T08:38:09.123766Z"
    }
   },
   "source": [
    "## 各ファイルを読み込んで辞書に格納"
   ]
  },
  {
   "cell_type": "code",
   "execution_count": 4,
   "id": "aaf65299-e00e-421e-9d17-339ef0a8b808",
   "metadata": {
    "execution": {
     "iopub.execute_input": "2025-07-31T08:48:10.322817Z",
     "iopub.status.busy": "2025-07-31T08:48:10.322171Z",
     "iopub.status.idle": "2025-07-31T08:48:10.339615Z",
     "shell.execute_reply": "2025-07-31T08:48:10.338246Z",
     "shell.execute_reply.started": "2025-07-31T08:48:10.322753Z"
    }
   },
   "outputs": [
    {
     "name": "stdout",
     "output_type": "stream",
     "text": [
      "全ファイル合計行数：19,501件\n",
      "\n",
      "―― case-accessory ――\n",
      "  行数：8件  列数：5列\n",
      "―― case-fan ――\n",
      "  行数：2,403件  列数：9列\n",
      "―― cpu-cooler ――\n",
      "  行数：2,431件  列数：7列\n",
      "―― cpu ――\n",
      "  行数：1,373件  列数：9列\n",
      "―― external-hard-drive ――\n",
      "  行数：646件  列数：8列\n",
      "―― fan-controller ――\n",
      "  行数：43件  列数：8列\n",
      "―― headphones ――\n",
      "  行数：2,865件  列数：9列\n",
      "―― internal-hard-drive ――\n",
      "  行数：6,062件  列数：9列\n",
      "―― keyboard ――\n",
      "  行数：3,670件  列数：9列\n",
      "\n",
      "                source  rows  cols\n",
      "0       case-accessory     8     5\n",
      "1             case-fan  2403     9\n",
      "2           cpu-cooler  2431     7\n",
      "3                  cpu  1373     9\n",
      "4  external-hard-drive   646     8\n",
      "5       fan-controller    43     8\n",
      "6           headphones  2865     9\n",
      "7  internal-hard-drive  6062     9\n",
      "8             keyboard  3670     9\n"
     ]
    }
   ],
   "source": [
    "# 全ファイルの合計行数\n",
    "total_rows = sum(df.shape[0] for df in df_dict.values())\n",
    "print(f\"全ファイル合計行数：{total_rows:,}件\\n\")\n",
    "\n",
    "# 各 DataFrame の件数・列数をプリント\n",
    "for name, df in df_dict.items():\n",
    "    print(f\"―― {name} ――\")\n",
    "    print(f\"  行数：{df.shape[0]:,}件  列数：{df.shape[1]:,}列\")\n",
    "print()\n",
    "\n",
    "# またはまとめて DataFrame で確認\n",
    "import pandas as pd\n",
    "summary = pd.DataFrame([\n",
    "    {\"source\": name, \"rows\": df.shape[0], \"cols\": df.shape[1]}\n",
    "    for name, df in df_dict.items()\n",
    "])\n",
    "print(summary)\n"
   ]
  },
  {
   "cell_type": "code",
   "execution_count": null,
   "id": "a7275b1e-7ee3-4e09-bc69-4103c0ed306f",
   "metadata": {},
   "outputs": [],
   "source": []
  }
 ],
 "metadata": {
  "kernelspec": {
   "display_name": "Python (otsuka-env)",
   "language": "python",
   "name": "otsuka-env"
  },
  "language_info": {
   "codemirror_mode": {
    "name": "ipython",
    "version": 3
   },
   "file_extension": ".py",
   "mimetype": "text/x-python",
   "name": "python",
   "nbconvert_exporter": "python",
   "pygments_lexer": "ipython3",
   "version": "3.11.9"
  },
  "widgets": {
   "application/vnd.jupyter.widget-state+json": {
    "state": {},
    "version_major": 2,
    "version_minor": 0
   }
  }
 },
 "nbformat": 4,
 "nbformat_minor": 5
}
